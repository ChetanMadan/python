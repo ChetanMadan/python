{
 "cells": [
  {
   "cell_type": "code",
   "execution_count": 1,
   "metadata": {},
   "outputs": [],
   "source": [
    "from IPython.display import clear_output\n",
    "\n",
    "def display_board(board):\n",
    "\n",
    "    clear_output\n",
    "    print(board[1]+'|'+board[2]+'|'+board[3])\n",
    "    print(board[4]+'|'+board[5]+'|'+board[6])\n",
    "    print(board[7]+'|'+board[8]+'|'+board[9])"
   ]
  },
  {
   "cell_type": "code",
   "execution_count": 2,
   "metadata": {},
   "outputs": [
    {
     "name": "stdout",
     "output_type": "stream",
     "text": [
      " | | \n",
      " | | \n",
      " | | \n"
     ]
    }
   ],
   "source": [
    "type_board=[' ']*10\n",
    "display_board(type_board)"
   ]
  },
  {
   "cell_type": "code",
   "execution_count": 3,
   "metadata": {},
   "outputs": [],
   "source": [
    "def play_input():\n",
    "    \n",
    "    mark = ''\n",
    "    \n",
    "    while not (mark == 'X' or mark == 'O'):\n",
    "        mark = input('Player 1, choose between X or O: ').upper()\n",
    "    \n",
    "    player1 = mark\n",
    "    \n",
    "    if player1 == 'X':\n",
    "        player2 = 'O'\n",
    "    else:\n",
    "        player2 = 'X'\n",
    "        \n",
    "    return (player1,player2)\n",
    "        \n",
    "\n",
    "    "
   ]
  },
  {
   "cell_type": "code",
   "execution_count": 4,
   "metadata": {},
   "outputs": [],
   "source": [
    "#play_input()"
   ]
  },
  {
   "cell_type": "code",
   "execution_count": 5,
   "metadata": {},
   "outputs": [],
   "source": [
    "def place_holder(board, mark, position):\n",
    "    board[position]=mark"
   ]
  },
  {
   "cell_type": "code",
   "execution_count": 6,
   "metadata": {},
   "outputs": [],
   "source": [
    "#place_holder(type_board,' ',1)\n",
    "#display_board(type_board)"
   ]
  },
  {
   "cell_type": "code",
   "execution_count": 7,
   "metadata": {},
   "outputs": [],
   "source": [
    "def win(board,mark):\n",
    "    if((board[1]==mark and board[2]==mark and board[3]==mark) or (board[4]==mark and board[5]==mark and board[6]==mark) or (board[7]==mark and board[8]==mark and board[9]==mark) or (board[1]==mark and board[5]==mark and board[9]==mark) or (board[3]==mark and board[5]==mark and board[7]==mark) or (board[1]==mark and board[4]==mark and board[7]==mark) or (board[2]==mark and board[5]==mark and board[8]==mark) or (board[3]==mark and board[6]==mark and board[9]==mark)):\n",
    "        return True\n",
    "    "
   ]
  },
  {
   "cell_type": "code",
   "execution_count": 8,
   "metadata": {},
   "outputs": [],
   "source": [
    "#win(type_board,' ')"
   ]
  },
  {
   "cell_type": "code",
   "execution_count": 9,
   "metadata": {},
   "outputs": [],
   "source": [
    "def space(board,position):\n",
    "    return board[position]==' '"
   ]
  },
  {
   "cell_type": "code",
   "execution_count": 10,
   "metadata": {},
   "outputs": [],
   "source": [
    "def choice(board):\n",
    "    \n",
    "    pos = 0\n",
    "    \n",
    "    while pos not in [1,2,3,4,5,5,6,7,8,9] or not space(board, pos):\n",
    "        pos=int(input(\"Choose your position (1-9): \"))\n",
    "    \n",
    "    return pos"
   ]
  },
  {
   "cell_type": "code",
   "execution_count": 11,
   "metadata": {},
   "outputs": [],
   "source": [
    "def full_board_check(board):\n",
    "    for i in range(1,10):\n",
    "        if space(board, i):\n",
    "            return False\n",
    "    return True"
   ]
  },
  {
   "cell_type": "code",
   "execution_count": null,
   "metadata": {},
   "outputs": [
    {
     "name": "stdout",
     "output_type": "stream",
     "text": [
      "Welcome to tic tac toe\n"
     ]
    }
   ],
   "source": [
    "print('Welcome to tic tac toe')\n",
    "\n",
    "while True:\n",
    "    playboard=[\" \"]*10\n",
    "    player1_choice,player2_choice=play_input()\n",
    "    turn='Player 1'\n",
    "    print(turn +' will go first')\n",
    "    \n",
    "    game=input('Are you ready to play?(y/n):').lower()\n",
    "    \n",
    "    if game=='y':\n",
    "        game_on=True\n",
    "    else:\n",
    "        game_on=False\n",
    "        \n",
    "    while game_on:\n",
    "        if turn == 'Player 1':\n",
    "            display_board(playboard)\n",
    "            position = choice(playboard)\n",
    "            place_holder(playboard, player1_choice, position)\n",
    "        \n",
    "            if win(playboard,player1_choice):\n",
    "                display_board(playboard)\n",
    "                print('Congo! You win')\n",
    "                game_on=False\n",
    "            else:\n",
    "                if full_board_check(playboard):\n",
    "                    display_board(playboard)\n",
    "                    print('Its a draw!')\n",
    "                    break\n",
    "                else:\n",
    "                    turn='Player 2'\n",
    "                    \n",
    "        elif turn == 'Player 2':\n",
    "            display_board(playboard)\n",
    "            \n",
    "            positon=choice(playboard)\n",
    "            place_holder(playboard, player2_choice, position)\n",
    "        \n",
    "            if win(playboard,player2_choice):\n",
    "                display_board(playboard)\n",
    "                print('Congo! You win')\n",
    "                game_on=False\n",
    "            else:\n",
    "                if full_board_check(playboard):\n",
    "                    display_board(playboard)\n",
    "                    print('Its a draw!')\n",
    "                    break\n",
    "                else:\n",
    "                    turn='Player 1'\n",
    "                    \n",
    "    break\n",
    "            "
   ]
  },
  {
   "cell_type": "code",
   "execution_count": null,
   "metadata": {},
   "outputs": [],
   "source": []
  }
 ],
 "metadata": {
  "kernelspec": {
   "display_name": "Python 3",
   "language": "python",
   "name": "python3"
  },
  "language_info": {
   "codemirror_mode": {
    "name": "ipython",
    "version": 3
   },
   "file_extension": ".py",
   "mimetype": "text/x-python",
   "name": "python",
   "nbconvert_exporter": "python",
   "pygments_lexer": "ipython3",
   "version": "3.7.1"
  }
 },
 "nbformat": 4,
 "nbformat_minor": 2
}
